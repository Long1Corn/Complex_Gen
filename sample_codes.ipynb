{
 "cells": [
  {
   "cell_type": "code",
   "execution_count": 1,
   "metadata": {
    "collapsed": true
   },
   "outputs": [
    {
     "name": "stdout",
     "output_type": "stream",
     "text": [
      "Ligand(C9H10O) Ligand(CO)\n"
     ]
    }
   ],
   "source": [
    "from ase.visualize import view\n",
    "from ase import Atom, Atoms\n",
    "from Complex_Gen.complex_structure import Ligand, Complex\n",
    "\n",
    "# Define a ligand based on SMILES representation\n",
    "ligand1 = Ligand(smiles=\"c1ccccc1CC=CO\", binding_sites_idx=[[0,1,2,3,4,5]], sites_loc_idx=[0])\n",
    "\n",
    "# Define a ligand based on ASE ATOMS object\n",
    "def CO():\n",
    "    C1 = Atom('C', (0, 0, 0))\n",
    "    O1 = Atom('O', (0, 0, 1.2))\n",
    "    return Atoms([C1, O1])\n",
    "\n",
    "ligand2 = Ligand(structure=CO(), binding_sites_idx=[[0]], sites_loc_idx=[1])\n",
    "ligand3 = Ligand(structure=CO(), binding_sites_idx=[[0]], sites_loc_idx=[2])\n",
    "ligand4 = Ligand(structure=CO(), binding_sites_idx=[[0]], sites_loc_idx=[3])\n",
    "ligand5 = Ligand(structure=CO(), binding_sites_idx=[[0]], sites_loc_idx=[4])\n",
    "print(ligand1, ligand2)\n"
   ]
  },
  {
   "cell_type": "code",
   "execution_count": 2,
   "outputs": [
    {
     "name": "stdout",
     "output_type": "stream",
     "text": [
      "Complex:Rh[Ligand(C9H10O), Ligand(CO), Ligand(CO), Ligand(CO), Ligand(CO)]\n"
     ]
    }
   ],
   "source": [
    "# Define the complex based on center metal atom and coordination number\n",
    "com = Complex(center_atom=\"Rh\",\n",
    "              ligands=[ligand1, ligand2, ligand3, ligand4, ligand5],\n",
    "              shape=\"pentagonal_bipyramidal\")\n",
    "\n",
    "com.generate_complex()\n",
    "\n",
    "print(com)\n"
   ],
   "metadata": {
    "collapsed": false
   }
  },
  {
   "cell_type": "code",
   "execution_count": 3,
   "outputs": [
    {
     "data": {
      "text/plain": "<Popen: returncode: None args: ['D:\\\\anaconda\\\\envs\\\\Complex_Gen\\\\python.exe...>"
     },
     "execution_count": 3,
     "metadata": {},
     "output_type": "execute_result"
    }
   ],
   "source": [
    "# View the complex\n",
    "view(com.complex)\n"
   ],
   "metadata": {
    "collapsed": false
   }
  },
  {
   "cell_type": "code",
   "execution_count": 4,
   "outputs": [
    {
     "name": "stdout",
     "output_type": "stream",
     "text": [
      "29\n",
      "\n",
      "Rh 0.00000000 0.00000000 0.00000000\n",
      "C -0.05988588 1.38688519 2.01999937\n",
      "C -1.21996676 0.62562699 2.02000028\n",
      "C -1.15946658 -0.75224860 2.02000095\n",
      "C 0.05954311 -1.37098076 2.02000028\n",
      "C 1.21303457 -0.63013568 2.02000028\n",
      "C 1.16674155 0.74085286 2.01999884\n",
      "C 2.37170675 1.59585678 2.02002053\n",
      "C 2.82064450 1.94826452 3.38097915\n",
      "C 4.02200896 1.58716712 3.75804602\n",
      "O 4.84948425 0.89602589 2.91016372\n",
      "H -0.15568453 2.46848826 2.02000421\n",
      "H -2.18754430 1.13398140 2.02000226\n",
      "H -2.07684220 -1.32442733 2.02000358\n",
      "H 0.11928839 -2.45991589 2.02000798\n",
      "H 2.15613615 -1.14428894 2.02000162\n",
      "H 2.10376357 2.54002381 1.46035897\n",
      "H 3.22000754 1.13145746 1.47421660\n",
      "H 2.15903097 2.49778046 4.05109200\n",
      "H 4.36779748 1.83189156 4.73944579\n",
      "H 5.79810062 0.65678846 3.08026350\n",
      "C 0.00000000 0.00000000 -2.39800000\n",
      "O 0.00000000 0.00000000 -3.59800000\n",
      "C 2.39800000 0.00000000 0.00000000\n",
      "O 3.59800000 0.00000000 0.00000000\n",
      "C -1.19900000 2.07672892 0.00000000\n",
      "O -1.79900000 3.11595940 0.00000000\n",
      "C -1.19900000 -2.07672892 0.00000000\n",
      "O -1.79900000 -3.11595940 0.00000000\n",
      "\n"
     ]
    }
   ],
   "source": [
    "from Complex_Gen.functional import ase_to_xyz\n",
    "\n",
    "xyz = ase_to_xyz(com.complex)\n",
    "\n",
    "print(xyz)"
   ],
   "metadata": {
    "collapsed": false
   }
  },
  {
   "cell_type": "code",
   "execution_count": 4,
   "outputs": [],
   "source": [],
   "metadata": {
    "collapsed": false
   }
  }
 ],
 "metadata": {
  "kernelspec": {
   "display_name": "Python 3",
   "language": "python",
   "name": "python3"
  },
  "language_info": {
   "codemirror_mode": {
    "name": "ipython",
    "version": 2
   },
   "file_extension": ".py",
   "mimetype": "text/x-python",
   "name": "python",
   "nbconvert_exporter": "python",
   "pygments_lexer": "ipython2",
   "version": "2.7.6"
  }
 },
 "nbformat": 4,
 "nbformat_minor": 0
}
