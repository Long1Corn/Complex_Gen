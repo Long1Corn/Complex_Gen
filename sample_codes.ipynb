{
 "cells": [
  {
   "cell_type": "code",
   "execution_count": 1,
   "metadata": {
    "collapsed": true,
    "ExecuteTime": {
     "end_time": "2023-09-26T04:03:17.049837900Z",
     "start_time": "2023-09-26T04:03:16.777685300Z"
    }
   },
   "outputs": [
    {
     "name": "stdout",
     "output_type": "stream",
     "text": [
      "Ligand(C9H10O) Ligand(CO)\n"
     ]
    }
   ],
   "source": [
    "from ase.visualize import view\n",
    "from ase import Atom, Atoms\n",
    "from Complex_Gen.complex_structure import Ligand, Complex\n",
    "\n",
    "# Define a ligand based on SMILES representation\n",
    "ligand1 = Ligand(smiles=\"c1ccccc1CC=CO\", binding_sites_idx=[0,1,2,3,4,5])\n",
    "\n",
    "# Define a ligand based on ASE ATOMS object\n",
    "def CO():\n",
    "    C1 = Atom('C', (0, 0, 0))\n",
    "    O1 = Atom('O', (0, 0, 1.2))\n",
    "    return Atoms([C1, O1])\n",
    "\n",
    "ligand2 = Ligand(structure=CO(), binding_sites_idx=[0])\n",
    "\n",
    "print(ligand1, ligand2)\n"
   ]
  },
  {
   "cell_type": "code",
   "execution_count": 2,
   "outputs": [
    {
     "name": "stdout",
     "output_type": "stream",
     "text": [
      "Complex:Rh[Ligand(C9H10O), Ligand(CO), Ligand(CO), Ligand(CO), Ligand(CO)]\n"
     ]
    }
   ],
   "source": [
    "# Define the complex based on center metal atom and coordination number\n",
    "com = Complex(center_atom=\"Rh\",\n",
    "              ligands=[ligand1, ligand2, ligand2, ligand2, ligand2],\n",
    "              shape=\"pentagonal_bipyramidal\")\n",
    "\n",
    "com.generate_complex()\n",
    "\n",
    "print(com)\n"
   ],
   "metadata": {
    "collapsed": false,
    "ExecuteTime": {
     "end_time": "2023-09-26T04:03:21.335316900Z",
     "start_time": "2023-09-26T04:03:21.322316500Z"
    }
   }
  },
  {
   "cell_type": "code",
   "execution_count": 5,
   "outputs": [
    {
     "data": {
      "text/plain": "<Popen: returncode: None args: ['D:\\\\anaconda\\\\envs\\\\Complex_Gen\\\\python.exe...>"
     },
     "execution_count": 5,
     "metadata": {},
     "output_type": "execute_result"
    }
   ],
   "source": [
    "# View the complex\n",
    "view(com.complex)\n"
   ],
   "metadata": {
    "collapsed": false,
    "ExecuteTime": {
     "end_time": "2023-09-26T04:04:15.564334100Z",
     "start_time": "2023-09-26T04:04:15.539328900Z"
    }
   }
  },
  {
   "cell_type": "code",
   "execution_count": null,
   "outputs": [],
   "source": [],
   "metadata": {
    "collapsed": false
   }
  }
 ],
 "metadata": {
  "kernelspec": {
   "display_name": "Python 3",
   "language": "python",
   "name": "python3"
  },
  "language_info": {
   "codemirror_mode": {
    "name": "ipython",
    "version": 2
   },
   "file_extension": ".py",
   "mimetype": "text/x-python",
   "name": "python",
   "nbconvert_exporter": "python",
   "pygments_lexer": "ipython2",
   "version": "2.7.6"
  }
 },
 "nbformat": 4,
 "nbformat_minor": 0
}
