{
 "cells": [
  {
   "cell_type": "code",
   "execution_count": 1,
   "metadata": {
    "collapsed": true,
    "ExecuteTime": {
     "end_time": "2023-11-28T08:07:31.048301Z",
     "start_time": "2023-11-28T08:07:30.121610600Z"
    }
   },
   "outputs": [
    {
     "name": "stdout",
     "output_type": "stream",
     "text": [
      "Ligand(C9H10O) Ligand(CO)\n"
     ]
    }
   ],
   "source": [
    "from ase.visualize import view\n",
    "from ase import Atom, Atoms\n",
    "from Complex_Gen.complex_structure import Ligand, Complex\n",
    "\n",
    "# Define a ligand based on SMILES representation\n",
    "ligand1 = Ligand(smiles=\"c1ccccc1CC=CO\", binding_sites_idx=[[0,1,2,3,4,5]], sites_loc_idx=[0])\n",
    "\n",
    "# Define a ligand based on ASE ATOMS object\n",
    "def CO():\n",
    "    C1 = Atom('C', (0, 0, 0))\n",
    "    O1 = Atom('O', (0, 0, 1.2))\n",
    "    return Atoms([C1, O1])\n",
    "\n",
    "ligand2 = Ligand(structure=CO(), binding_sites_idx=[[0]], sites_loc_idx=[1])\n",
    "ligand3 = Ligand(structure=CO(), binding_sites_idx=[[0]], sites_loc_idx=[2])\n",
    "ligand4 = Ligand(structure=CO(), binding_sites_idx=[[0]], sites_loc_idx=[3])\n",
    "ligand5 = Ligand(structure=CO(), binding_sites_idx=[[0]], sites_loc_idx=[4])\n",
    "print(ligand1, ligand2)\n"
   ]
  },
  {
   "cell_type": "code",
   "execution_count": 2,
   "outputs": [
    {
     "name": "stdout",
     "output_type": "stream",
     "text": [
      "Complex:Rh[Ligand(C9H10O), Ligand(CO), Ligand(CO), Ligand(CO), Ligand(CO)]\n"
     ]
    }
   ],
   "source": [
    "from Complex_Gen.functional import Center_Geo_Type\n",
    "\n",
    "# Define the complex based on center metal atom and coordination number\n",
    "shape = Center_Geo_Type().trigonal_bipyramidal()\n",
    "\n",
    "com = Complex(center_atom=\"Rh\",\n",
    "              ligands=[ligand1, ligand2, ligand3, ligand4, ligand5],\n",
    "              shape=shape)\n",
    "\n",
    "com.generate_complex()\n",
    "\n",
    "print(com)\n"
   ],
   "metadata": {
    "collapsed": false,
    "ExecuteTime": {
     "end_time": "2023-11-28T08:07:31.413810800Z",
     "start_time": "2023-11-28T08:07:31.048301Z"
    }
   }
  },
  {
   "cell_type": "code",
   "execution_count": 3,
   "outputs": [
    {
     "data": {
      "text/plain": "<Popen: returncode: None args: ['D:\\\\anaconda\\\\envs\\\\Complex_Gen\\\\python.exe...>"
     },
     "execution_count": 3,
     "metadata": {},
     "output_type": "execute_result"
    }
   ],
   "source": [
    "# View the complex\n",
    "view(com.complex)\n"
   ],
   "metadata": {
    "collapsed": false,
    "ExecuteTime": {
     "end_time": "2023-11-28T08:07:31.460695200Z",
     "start_time": "2023-11-28T08:07:31.413810800Z"
    }
   }
  },
  {
   "cell_type": "code",
   "execution_count": 4,
   "outputs": [
    {
     "name": "stdout",
     "output_type": "stream",
     "text": [
      "29\n",
      "\n",
      "Rh 0.00000000 0.00000000 0.00000000\n",
      "C -0.26683963 -1.37279703 2.02000278\n",
      "C 1.02547372 -0.88710248 2.01999867\n",
      "C 1.31095030 0.46247284 2.01999830\n",
      "C 0.27276528 1.34602291 2.01999867\n",
      "C -1.03299956 0.90141456 2.01999867\n",
      "C -1.30935011 -0.45001080 2.02000291\n",
      "C -2.73441879 -0.89273980 2.02003348\n",
      "C -3.19624117 -1.03606764 3.41966152\n",
      "C -3.63566867 -2.13320030 3.95473309\n",
      "O -4.04264019 -2.15124997 5.27788869\n",
      "H -0.50210541 -2.42892191 2.01999940\n",
      "H 1.86028302 -1.59135199 2.01998449\n",
      "H 2.31106644 0.85769150 2.01999225\n",
      "H 0.40799287 2.42489812 2.01999751\n",
      "H -1.87535640 1.58350811 2.01998885\n",
      "H -2.90908744 -1.77443361 1.40613241\n",
      "H -3.35283788 -0.06772178 1.58090306\n",
      "H -3.14858516 -0.12676373 4.01704779\n",
      "H -3.69521163 -3.04754400 3.39231287\n",
      "H -3.33173724 -2.36047112 5.97731490\n",
      "C 0.00000000 0.00000000 -2.18000000\n",
      "O 0.00000000 0.00000000 -3.38000000\n",
      "C 2.18000000 0.00000000 0.00000000\n",
      "O 3.38000000 0.00000000 0.00000000\n",
      "C -1.09000000 1.88793538 0.00000000\n",
      "O -1.69000000 2.92716586 0.00000000\n",
      "C -1.09000000 -1.88793538 0.00000000\n",
      "O -1.69000000 -2.92716586 0.00000000\n",
      "\n"
     ]
    }
   ],
   "source": [
    "from Complex_Gen.functional import ase_to_xyz\n",
    "\n",
    "xyz = ase_to_xyz(com.complex)\n",
    "\n",
    "print(xyz)"
   ],
   "metadata": {
    "collapsed": false,
    "ExecuteTime": {
     "end_time": "2023-11-28T08:07:31.460695200Z",
     "start_time": "2023-11-28T08:07:31.429445400Z"
    }
   }
  },
  {
   "cell_type": "code",
   "execution_count": 4,
   "outputs": [],
   "source": [],
   "metadata": {
    "collapsed": false,
    "ExecuteTime": {
     "end_time": "2023-11-28T08:07:31.460695200Z",
     "start_time": "2023-11-28T08:07:31.445069800Z"
    }
   }
  }
 ],
 "metadata": {
  "kernelspec": {
   "display_name": "Python 3",
   "language": "python",
   "name": "python3"
  },
  "language_info": {
   "codemirror_mode": {
    "name": "ipython",
    "version": 2
   },
   "file_extension": ".py",
   "mimetype": "text/x-python",
   "name": "python",
   "nbconvert_exporter": "python",
   "pygments_lexer": "ipython2",
   "version": "2.7.6"
  }
 },
 "nbformat": 4,
 "nbformat_minor": 0
}
